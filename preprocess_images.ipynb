{
 "cells": [
  {
   "cell_type": "markdown",
   "id": "filled-nebraska",
   "metadata": {},
   "source": [
    "# Instructions\n",
    "\n",
    "The Stanford40_JPEGImages and Stanford40_XMLAnnotations folders needs to be in the embedded_project.\n",
    "\n",
    "In the Stanford40_JPEGImages, add train.text and test.txt into that folder from Stanford40_ImageSplits\\ImageSplits"
   ]
  },
  {
   "cell_type": "code",
   "execution_count": 2,
   "id": "friendly-undergraduate",
   "metadata": {},
   "outputs": [],
   "source": [
    "import os, cv2\n",
    "import numpy as np\n",
    "from os import listdir\n",
    "from os.path import isfile, join\n",
    "from PIL import Image\n",
    "import xml.etree.ElementTree as ET\n",
    "import matplotlib.pyplot as plt\n",
    "import shutil"
   ]
  },
  {
   "cell_type": "code",
   "execution_count": 3,
   "id": "desperate-desktop",
   "metadata": {},
   "outputs": [],
   "source": [
    "imgFileDir = r'C:\\Users\\WillyB\\Documents\\GitHub\\embedded_project\\Stanford40_JPEGImages\\JPEGImages'\n",
    "parentImgFileDir = r'C:\\Users\\WillyB\\Documents\\GitHub\\embedded_project\\Stanford40_JPEGImages'\n",
    "xmlFileDir = r'C:\\Users\\WillyB\\Documents\\GitHub\\embedded_project\\Stanford40_XMLAnnotations\\XMLAnnotations'\n",
    "directory = \"CImages\"\n"
   ]
  },
  {
   "cell_type": "code",
   "execution_count": 4,
   "id": "handed-identity",
   "metadata": {},
   "outputs": [
    {
     "name": "stdout",
     "output_type": "stream",
     "text": [
      "Done\n"
     ]
    }
   ],
   "source": [
    "def extractBBox():\n",
    "    os.chdir(xmlFileDir)\n",
    "    imgBBoxes = []\n",
    "    xmlFileNames = [f for f in listdir(xmlFileDir) if isfile(join(xmlFileDir, f))]\n",
    "    #print(xmlFileNames[:10])\n",
    "    actionList = []\n",
    "    for file in xmlFileNames:\n",
    "        root = ET.parse(file).getroot()\n",
    "        filename = root.find('filename').text\n",
    "        xmin = int(root.find('object/bndbox/xmin').text)\n",
    "        ymin = int(root.find('object/bndbox/ymin').text)\n",
    "        xmax = int(root.find('object/bndbox/xmax').text)\n",
    "        ymax = int(root.find('object/bndbox/ymax').text)\n",
    "        action = root.find('object/action').text\n",
    "        actionList.append(action)\n",
    "        imgBBoxes.append([filename, xmin, ymin, xmax, ymax])\n",
    "    print(\"Done\")\n",
    "    return imgBBoxes, actionList\n",
    "BBoxes, actionList = extractBBox()"
   ]
  },
  {
   "cell_type": "code",
   "execution_count": 9,
   "id": "desperate-count",
   "metadata": {
    "collapsed": true
   },
   "outputs": [
    {
     "name": "stdout",
     "output_type": "stream",
     "text": [
      "does not exist, create folder\n",
      "C:\\Users\\WillyB\\Documents\\GitHub\\embedded_project\\Stanford40_JPEGImages\\ActionImages\\applauding/\n",
      "does not exist, create folder\n",
      "C:\\Users\\WillyB\\Documents\\GitHub\\embedded_project\\Stanford40_JPEGImages\\ActionImages\\blowing_bubbles/\n",
      "does not exist, create folder\n",
      "C:\\Users\\WillyB\\Documents\\GitHub\\embedded_project\\Stanford40_JPEGImages\\ActionImages\\brushing_teeth/\n",
      "does not exist, create folder\n",
      "C:\\Users\\WillyB\\Documents\\GitHub\\embedded_project\\Stanford40_JPEGImages\\ActionImages\\cleaning_the_floor/\n",
      "does not exist, create folder\n",
      "C:\\Users\\WillyB\\Documents\\GitHub\\embedded_project\\Stanford40_JPEGImages\\ActionImages\\climbing/\n",
      "does not exist, create folder\n",
      "C:\\Users\\WillyB\\Documents\\GitHub\\embedded_project\\Stanford40_JPEGImages\\ActionImages\\cooking/\n",
      "does not exist, create folder\n",
      "C:\\Users\\WillyB\\Documents\\GitHub\\embedded_project\\Stanford40_JPEGImages\\ActionImages\\cutting_trees/\n",
      "does not exist, create folder\n",
      "C:\\Users\\WillyB\\Documents\\GitHub\\embedded_project\\Stanford40_JPEGImages\\ActionImages\\cutting_vegetables/\n",
      "does not exist, create folder\n",
      "C:\\Users\\WillyB\\Documents\\GitHub\\embedded_project\\Stanford40_JPEGImages\\ActionImages\\drinking/\n",
      "does not exist, create folder\n",
      "C:\\Users\\WillyB\\Documents\\GitHub\\embedded_project\\Stanford40_JPEGImages\\ActionImages\\feeding_a_horse/\n",
      "does not exist, create folder\n",
      "C:\\Users\\WillyB\\Documents\\GitHub\\embedded_project\\Stanford40_JPEGImages\\ActionImages\\fishing/\n",
      "does not exist, create folder\n",
      "C:\\Users\\WillyB\\Documents\\GitHub\\embedded_project\\Stanford40_JPEGImages\\ActionImages\\fixing_a_bike/\n",
      "does not exist, create folder\n",
      "C:\\Users\\WillyB\\Documents\\GitHub\\embedded_project\\Stanford40_JPEGImages\\ActionImages\\fixing_a_car/\n",
      "does not exist, create folder\n",
      "C:\\Users\\WillyB\\Documents\\GitHub\\embedded_project\\Stanford40_JPEGImages\\ActionImages\\gardening/\n",
      "does not exist, create folder\n",
      "C:\\Users\\WillyB\\Documents\\GitHub\\embedded_project\\Stanford40_JPEGImages\\ActionImages\\holding_an_umbrella/\n",
      "does not exist, create folder\n",
      "C:\\Users\\WillyB\\Documents\\GitHub\\embedded_project\\Stanford40_JPEGImages\\ActionImages\\jumping/\n",
      "does not exist, create folder\n",
      "C:\\Users\\WillyB\\Documents\\GitHub\\embedded_project\\Stanford40_JPEGImages\\ActionImages\\looking_through_a_microscope/\n",
      "does not exist, create folder\n",
      "C:\\Users\\WillyB\\Documents\\GitHub\\embedded_project\\Stanford40_JPEGImages\\ActionImages\\looking_through_a_telescope/\n",
      "does not exist, create folder\n",
      "C:\\Users\\WillyB\\Documents\\GitHub\\embedded_project\\Stanford40_JPEGImages\\ActionImages\\phoning/\n",
      "does not exist, create folder\n",
      "C:\\Users\\WillyB\\Documents\\GitHub\\embedded_project\\Stanford40_JPEGImages\\ActionImages\\playing_guitar/\n",
      "does not exist, create folder\n",
      "C:\\Users\\WillyB\\Documents\\GitHub\\embedded_project\\Stanford40_JPEGImages\\ActionImages\\playing_violin/\n",
      "does not exist, create folder\n",
      "C:\\Users\\WillyB\\Documents\\GitHub\\embedded_project\\Stanford40_JPEGImages\\ActionImages\\pouring_liquid/\n",
      "does not exist, create folder\n",
      "C:\\Users\\WillyB\\Documents\\GitHub\\embedded_project\\Stanford40_JPEGImages\\ActionImages\\pushing_a_cart/\n",
      "does not exist, create folder\n",
      "C:\\Users\\WillyB\\Documents\\GitHub\\embedded_project\\Stanford40_JPEGImages\\ActionImages\\reading/\n",
      "does not exist, create folder\n",
      "C:\\Users\\WillyB\\Documents\\GitHub\\embedded_project\\Stanford40_JPEGImages\\ActionImages\\riding_a_bike/\n",
      "does not exist, create folder\n",
      "C:\\Users\\WillyB\\Documents\\GitHub\\embedded_project\\Stanford40_JPEGImages\\ActionImages\\riding_a_horse/\n",
      "does not exist, create folder\n",
      "C:\\Users\\WillyB\\Documents\\GitHub\\embedded_project\\Stanford40_JPEGImages\\ActionImages\\rowing_a_boat/\n",
      "does not exist, create folder\n",
      "C:\\Users\\WillyB\\Documents\\GitHub\\embedded_project\\Stanford40_JPEGImages\\ActionImages\\running/\n",
      "does not exist, create folder\n",
      "C:\\Users\\WillyB\\Documents\\GitHub\\embedded_project\\Stanford40_JPEGImages\\ActionImages\\shooting_an_arrow/\n",
      "does not exist, create folder\n",
      "C:\\Users\\WillyB\\Documents\\GitHub\\embedded_project\\Stanford40_JPEGImages\\ActionImages\\smoking/\n",
      "does not exist, create folder\n",
      "C:\\Users\\WillyB\\Documents\\GitHub\\embedded_project\\Stanford40_JPEGImages\\ActionImages\\taking_photos/\n",
      "does not exist, create folder\n",
      "C:\\Users\\WillyB\\Documents\\GitHub\\embedded_project\\Stanford40_JPEGImages\\ActionImages\\texting_message/\n",
      "does not exist, create folder\n",
      "C:\\Users\\WillyB\\Documents\\GitHub\\embedded_project\\Stanford40_JPEGImages\\ActionImages\\throwing_frisby/\n",
      "does not exist, create folder\n",
      "C:\\Users\\WillyB\\Documents\\GitHub\\embedded_project\\Stanford40_JPEGImages\\ActionImages\\using_a_computer/\n",
      "does not exist, create folder\n",
      "C:\\Users\\WillyB\\Documents\\GitHub\\embedded_project\\Stanford40_JPEGImages\\ActionImages\\walking_the_dog/\n",
      "does not exist, create folder\n",
      "C:\\Users\\WillyB\\Documents\\GitHub\\embedded_project\\Stanford40_JPEGImages\\ActionImages\\washing_dishes/\n",
      "does not exist, create folder\n",
      "C:\\Users\\WillyB\\Documents\\GitHub\\embedded_project\\Stanford40_JPEGImages\\ActionImages\\watching_TV/\n",
      "does not exist, create folder\n",
      "C:\\Users\\WillyB\\Documents\\GitHub\\embedded_project\\Stanford40_JPEGImages\\ActionImages\\waving_hands/\n",
      "does not exist, create folder\n",
      "C:\\Users\\WillyB\\Documents\\GitHub\\embedded_project\\Stanford40_JPEGImages\\ActionImages\\writing_on_a_board/\n",
      "does not exist, create folder\n",
      "C:\\Users\\WillyB\\Documents\\GitHub\\embedded_project\\Stanford40_JPEGImages\\ActionImages\\writing_on_a_book/\n",
      "does not exist, create folder\n"
     ]
    },
    {
     "data": {
      "text/plain": [
       "array(['applauding', 'blowing_bubbles', 'brushing_teeth',\n",
       "       'cleaning_the_floor', 'climbing', 'cooking', 'cutting_trees',\n",
       "       'cutting_vegetables', 'drinking', 'feeding_a_horse', 'fishing',\n",
       "       'fixing_a_bike', 'fixing_a_car', 'gardening',\n",
       "       'holding_an_umbrella', 'jumping', 'looking_through_a_microscope',\n",
       "       'looking_through_a_telescope', 'phoning', 'playing_guitar',\n",
       "       'playing_violin', 'pouring_liquid', 'pushing_a_cart', 'reading',\n",
       "       'riding_a_bike', 'riding_a_horse', 'rowing_a_boat', 'running',\n",
       "       'shooting_an_arrow', 'smoking', 'taking_photos', 'texting_message',\n",
       "       'throwing_frisby', 'using_a_computer', 'walking_the_dog',\n",
       "       'washing_dishes', 'watching_TV', 'waving_hands',\n",
       "       'writing_on_a_board', 'writing_on_a_book'], dtype='<U28')"
      ]
     },
     "execution_count": 9,
     "metadata": {},
     "output_type": "execute_result"
    }
   ],
   "source": [
    "def create_classFolders():\n",
    "    (classUnique,counts) = np.unique(actionList, return_counts=True)\n",
    "    os.chdir(parentImgFileDir)\n",
    "    actionImagesPath = os.path.join(parentImgFileDir, \"ActionImages\")\n",
    "    if os.path.exists(actionImagesPath):\n",
    "        print(\"it exist\")\n",
    "    else:\n",
    "        print(\"does not exist, create folder\")\n",
    "        os.mkdir(actionImagesPath)\n",
    "    for actionName in classUnique:\n",
    "        path = os.path.join(actionImagesPath, actionName)\n",
    "        print(path+'/')\n",
    "        if os.path.exists(path):\n",
    "            print(\"it exist\")\n",
    "        else:\n",
    "            print(\"does not exist, create folder\")\n",
    "            os.mkdir(path)\n",
    "\n",
    "\n",
    "create_classFolders()"
   ]
  },
  {
   "cell_type": "code",
   "execution_count": 4,
   "id": "prerequisite-symphony",
   "metadata": {},
   "outputs": [
    {
     "name": "stdout",
     "output_type": "stream",
     "text": [
      "C:\\Users\\WillyB\\Documents\\GitHub\\embedded_project\\Stanford40_JPEGImages\\CImages/\n",
      "does not exist, create folder\n",
      "9531/9532\n",
      "Done\n"
     ]
    }
   ],
   "source": [
    "def cropImages(BBoxes):\n",
    "    #make cropped images folder\n",
    "    path = os.path.join(parentImgFileDir, directory)\n",
    "    print(path+'/')\n",
    "    if os.path.exists(path):\n",
    "        print(\"it exist\")\n",
    "    else:\n",
    "        print(\"does not exist, create folder\")\n",
    "        os.mkdir(path)\n",
    "    \n",
    "    os.chdir(imgFileDir)\n",
    "    count = 0\n",
    "    for image in BBoxes:\n",
    "        #print(\"cropping: \", image[0])\n",
    "        print(str(count)+\"/\"+str(len(BBoxes)), end='\\r')\n",
    "        count +=1\n",
    "        im =Image.open(image[0])\n",
    "        xmin = image[1]\n",
    "        ymin = image[2]\n",
    "        xmax = image[3]\n",
    "        ymax = image[4]\n",
    "        cImg = im.crop((xmin, ymin, xmax,ymax))\n",
    "        cImg.save(path+'/'+image[0], 'JPEG')\n",
    "    print()\n",
    "    print(\"Done\")\n",
    "cropImages(BBoxes)"
   ]
  },
  {
   "cell_type": "code",
   "execution_count": 11,
   "id": "conceptual-buffer",
   "metadata": {},
   "outputs": [
    {
     "name": "stdout",
     "output_type": "stream",
     "text": [
      "9531/9532\r"
     ]
    }
   ],
   "source": [
    "def moveActionImages():\n",
    "    actionImagesPath = os.path.join(parentImgFileDir, \"ActionImages\")\n",
    "    croppedImgPath = os.path.join(parentImgFileDir, directory)\n",
    "    os.chdir(croppedImgPath)\n",
    "\n",
    "    for x in range(len(BBoxes)):\n",
    "        shutil.copy(BBoxes[x][0], os.path.join(actionImagesPath,actionList[x]))\n",
    "        print(str(x+1)+\"/\"+str(len(BBoxes)), end='\\r')\n",
    "        \n",
    "moveActionImages()\n"
   ]
  },
  {
   "cell_type": "code",
   "execution_count": 5,
   "id": "blond-thong",
   "metadata": {},
   "outputs": [
    {
     "name": "stdout",
     "output_type": "stream",
     "text": [
      "Train folder does not exist, create folder\n",
      "Test folder does not exist, create folder\n",
      "\n",
      "moved all train images 4000\n",
      "\n",
      "moved all test images 5532\n"
     ]
    }
   ],
   "source": [
    "def moveImgTrainTest():\n",
    "    #make cropped images folder\n",
    "    croppedImgPath = os.path.join(parentImgFileDir, directory)\n",
    "    os.chdir(parentImgFileDir)\n",
    "\n",
    "    #create Test and Train folders\n",
    "    train_path = os.path.join(parentImgFileDir, \"Train\")\n",
    "    test_path = os.path.join(parentImgFileDir, \"Test\")\n",
    "    if os.path.exists(train_path):\n",
    "        print(\"Train folder already exists\")\n",
    "    else:\n",
    "        print(\"Train folder does not exist, create folder\")\n",
    "        os.mkdir(train_path)\n",
    "    if os.path.exists(test_path):\n",
    "        print(\"Test folder already exists\")\n",
    "    else:\n",
    "        print(\"Test folder does not exist, create folder\")\n",
    "        os.mkdir(test_path)\n",
    "    trainlist = [line.rstrip('\\n') for line in open('train.txt', 'r')]\n",
    "    #testlist = open('test.txt', 'r').readlines()\n",
    "    testlist = [line.rstrip('\\n') for line in open('test.txt', 'r')]\n",
    "    \n",
    "    #Copy Test and Train images to the correct folder\n",
    "    os.chdir(croppedImgPath)\n",
    "    test_count = 0\n",
    "    train_count = 0\n",
    "    for img in trainlist:\n",
    "        #print(str(test_count)+'/'+str(len(trainlist)), end='\\r')\n",
    "        shutil.copy(img, train_path)\n",
    "        train_count += 1\n",
    "    print()\n",
    "    print(\"moved all train images\", train_count)\n",
    "    \n",
    "    for img in testlist:\n",
    "        shutil.copy(img, test_path)\n",
    "        #print(str(train_count)+'/'+str(len(testlist)), end='\\r')\n",
    "        test_count += 1\n",
    "    print()\n",
    "    print(\"moved all test images\", test_count)\n",
    "\n",
    "\n",
    "moveImgTrainTest()\n"
   ]
  },
  {
   "cell_type": "code",
   "execution_count": null,
   "id": "prompt-mountain",
   "metadata": {},
   "outputs": [],
   "source": []
  }
 ],
 "metadata": {
  "kernelspec": {
   "display_name": "gputest",
   "language": "python",
   "name": "gputest"
  },
  "language_info": {
   "codemirror_mode": {
    "name": "ipython",
    "version": 3
   },
   "file_extension": ".py",
   "mimetype": "text/x-python",
   "name": "python",
   "nbconvert_exporter": "python",
   "pygments_lexer": "ipython3",
   "version": "3.7.10"
  }
 },
 "nbformat": 4,
 "nbformat_minor": 5
}
