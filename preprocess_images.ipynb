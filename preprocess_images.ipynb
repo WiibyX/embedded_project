{
 "cells": [
  {
   "cell_type": "markdown",
   "id": "filled-nebraska",
   "metadata": {},
   "source": [
    "# Instructions\n",
    "\n",
    "The Stanford40_JPEGImages and Stanford40_XMLAnnotations folders needs to be in the embedded_project.\n",
    "\n",
    "In the Stanford40_JPEGImages, add train.text and test.txt into that folder from Stanford40_ImageSplits\\ImageSplits"
   ]
  },
  {
   "cell_type": "code",
   "execution_count": 1,
   "id": "friendly-undergraduate",
   "metadata": {},
   "outputs": [],
   "source": [
    "import os, cv2\n",
    "import numpy as np\n",
    "from os import listdir\n",
    "from os.path import isfile, join\n",
    "from PIL import Image\n",
    "import xml.etree.ElementTree as ET\n",
    "import matplotlib.pyplot as plt\n",
    "import shutil"
   ]
  },
  {
   "cell_type": "code",
   "execution_count": 2,
   "id": "desperate-desktop",
   "metadata": {},
   "outputs": [],
   "source": [
    "imgFileDir = r'C:\\Users\\WillyB\\Documents\\GitHub\\embedded_project\\Stanford40_JPEGImages\\JPEGImages'\n",
    "parentImgFileDir = r'C:\\Users\\WillyB\\Documents\\GitHub\\embedded_project\\Stanford40_JPEGImages'\n",
    "xmlFileDir = r'C:\\Users\\WillyB\\Documents\\GitHub\\embedded_project\\Stanford40_XMLAnnotations\\XMLAnnotations'\n",
    "directory = \"CImages\"\n"
   ]
  },
  {
   "cell_type": "code",
   "execution_count": 3,
   "id": "handed-identity",
   "metadata": {},
   "outputs": [
    {
     "name": "stdout",
     "output_type": "stream",
     "text": [
      "Done\n"
     ]
    }
   ],
   "source": [
    "def extractBBox():\n",
    "    os.chdir(xmlFileDir)\n",
    "    imgBBoxes = []\n",
    "    xmlFileNames = [f for f in listdir(xmlFileDir) if isfile(join(xmlFileDir, f))]\n",
    "    #print(xmlFileNames[:10])\n",
    "    for file in xmlFileNames:\n",
    "        root = ET.parse(file).getroot()\n",
    "        filename = root.find('filename').text\n",
    "        xmin = int(root.find('object/bndbox/xmin').text)\n",
    "        ymin = int(root.find('object/bndbox/ymin').text)\n",
    "        xmax = int(root.find('object/bndbox/xmax').text)\n",
    "        ymax = int(root.find('object/bndbox/ymax').text)\n",
    "    \n",
    "        imgBBoxes.append([filename, xmin, ymin, xmax, ymax])\n",
    "    print(\"Done\")\n",
    "    return imgBBoxes\n",
    "BBoxes = extractBBox()"
   ]
  },
  {
   "cell_type": "code",
   "execution_count": 4,
   "id": "prerequisite-symphony",
   "metadata": {},
   "outputs": [
    {
     "name": "stdout",
     "output_type": "stream",
     "text": [
      "C:\\Users\\WillyB\\Documents\\GitHub\\embedded_project\\Stanford40_JPEGImages\\CImages/\n",
      "does not exist, create folder\n",
      "9531/9532\n",
      "Done\n"
     ]
    }
   ],
   "source": [
    "def cropImages(BBoxes):\n",
    "    #make cropped images folder\n",
    "    path = os.path.join(parentImgFileDir, directory)\n",
    "    print(path+'/')\n",
    "    if os.path.exists(path):\n",
    "        print(\"it exist\")\n",
    "    else:\n",
    "        print(\"does not exist, create folder\")\n",
    "        os.mkdir(path)\n",
    "    \n",
    "    os.chdir(imgFileDir)\n",
    "    count = 0\n",
    "    for image in BBoxes:\n",
    "        #print(\"cropping: \", image[0])\n",
    "        print(str(count)+\"/\"+str(len(BBoxes)), end='\\r')\n",
    "        count +=1\n",
    "        im =Image.open(image[0])\n",
    "        xmin = image[1]\n",
    "        ymin = image[2]\n",
    "        xmax = image[3]\n",
    "        ymax = image[4]\n",
    "        cImg = im.crop((xmin, ymin, xmax,ymax))\n",
    "        cImg.save(path+'/'+image[0], 'JPEG')\n",
    "    print()\n",
    "    print(\"Done\")\n",
    "cropImages(BBoxes)"
   ]
  },
  {
   "cell_type": "code",
   "execution_count": 5,
   "id": "blond-thong",
   "metadata": {},
   "outputs": [
    {
     "name": "stdout",
     "output_type": "stream",
     "text": [
      "Train folder does not exist, create folder\n",
      "Test folder does not exist, create folder\n",
      "\n",
      "moved all train images 4000\n",
      "\n",
      "moved all test images 5532\n"
     ]
    }
   ],
   "source": [
    "def moveImgTrainTest():\n",
    "    #make cropped images folder\n",
    "    croppedImgPath = os.path.join(parentImgFileDir, directory)\n",
    "    os.chdir(parentImgFileDir)\n",
    "\n",
    "    #create Test and Train folders\n",
    "    train_path = os.path.join(parentImgFileDir, \"Train\")\n",
    "    test_path = os.path.join(parentImgFileDir, \"Test\")\n",
    "    if os.path.exists(train_path):\n",
    "        print(\"Train folder already exists\")\n",
    "    else:\n",
    "        print(\"Train folder does not exist, create folder\")\n",
    "        os.mkdir(train_path)\n",
    "    if os.path.exists(test_path):\n",
    "        print(\"Test folder already exists\")\n",
    "    else:\n",
    "        print(\"Test folder does not exist, create folder\")\n",
    "        os.mkdir(test_path)\n",
    "    trainlist = [line.rstrip('\\n') for line in open('train.txt', 'r')]\n",
    "    #testlist = open('test.txt', 'r').readlines()\n",
    "    testlist = [line.rstrip('\\n') for line in open('test.txt', 'r')]\n",
    "    \n",
    "    #Copy Test and Train images to the correct folder\n",
    "    os.chdir(croppedImgPath)\n",
    "    test_count = 0\n",
    "    train_count = 0\n",
    "    for img in trainlist:\n",
    "        #print(str(test_count)+'/'+str(len(trainlist)), end='\\r')\n",
    "        shutil.copy(img, train_path)\n",
    "        train_count += 1\n",
    "    print()\n",
    "    print(\"moved all train images\", train_count)\n",
    "    \n",
    "    for img in testlist:\n",
    "        shutil.copy(img, test_path)\n",
    "        #print(str(train_count)+'/'+str(len(testlist)), end='\\r')\n",
    "        test_count += 1\n",
    "    print()\n",
    "    print(\"moved all test images\", test_count)\n",
    "\n",
    "\n",
    "moveImgTrainTest()\n"
   ]
  },
  {
   "cell_type": "code",
   "execution_count": null,
   "id": "prompt-mountain",
   "metadata": {},
   "outputs": [],
   "source": []
  }
 ],
 "metadata": {
  "kernelspec": {
   "display_name": "gputest",
   "language": "python",
   "name": "gputest"
  },
  "language_info": {
   "codemirror_mode": {
    "name": "ipython",
    "version": 3
   },
   "file_extension": ".py",
   "mimetype": "text/x-python",
   "name": "python",
   "nbconvert_exporter": "python",
   "pygments_lexer": "ipython3",
   "version": "3.7.10"
  }
 },
 "nbformat": 4,
 "nbformat_minor": 5
}
