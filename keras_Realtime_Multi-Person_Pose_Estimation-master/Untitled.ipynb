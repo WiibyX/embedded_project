{
 "cells": [
  {
   "cell_type": "code",
   "execution_count": 1,
   "id": "binding-petite",
   "metadata": {},
   "outputs": [],
   "source": [
    "import os, cv2\n",
    "import numpy as np\n",
    "from os import listdir\n",
    "from os.path import isfile, join\n",
    "from PIL import Image\n",
    "import xml.etree.ElementTree as ET\n",
    "import matplotlib.pyplot as plt\n",
    "import shutil\n",
    "from sklearn.model_selection import train_test_split\n",
    "from keras.datasets import mnist\n",
    "from keras.utils import to_categorical\n",
    "from keras.models import Sequential\n",
    "from keras.layers import Conv2D\n",
    "from keras.layers import MaxPooling2D\n",
    "from keras.layers import Dense\n",
    "from keras.layers import Flatten\n",
    "from keras.layers import Dropout\n",
    "import keras.optimizers\n",
    "import random\n",
    "import scipy\n",
    "import math\n",
    "import tensorflow as tf"
   ]
  },
  {
   "cell_type": "code",
   "execution_count": 2,
   "id": "legal-charger",
   "metadata": {},
   "outputs": [],
   "source": [
    "CImagesDir = r'C:\\Users\\WillyB\\Documents\\GitHub\\embedded_project\\Stanford40_JPEGImages\\CImages'\n",
    "JPG_OrderDir =r'C:\\Users\\WillyB\\Documents\\GitHub\\embedded_project\\keras_Realtime_Multi-Person_Pose_Estimation-master/JPG_Order.txt'\n",
    "partCoordsDir = r'C:\\Users\\WillyB\\Documents\\GitHub\\embedded_project\\keras_Realtime_Multi-Person_Pose_Estimation-master/partCoords.npy'"
   ]
  },
  {
   "cell_type": "code",
   "execution_count": 7,
   "id": "complimentary-brighton",
   "metadata": {},
   "outputs": [],
   "source": [
    "JPG_Order = [line.rstrip('\\n') for line in open(JPG_OrderDir, 'r')]\n",
    "partCoords = np.load(partCoordsDir)"
   ]
  },
  {
   "cell_type": "code",
   "execution_count": 5,
   "id": "electric-laptop",
   "metadata": {},
   "outputs": [
    {
     "data": {
      "text/plain": [
       "['applauding_001.jpg',\n",
       " 'applauding_002.jpg',\n",
       " 'applauding_003.jpg',\n",
       " 'applauding_004.jpg',\n",
       " 'applauding_005.jpg',\n",
       " 'applauding_006.jpg',\n",
       " 'applauding_007.jpg',\n",
       " 'applauding_008.jpg',\n",
       " 'applauding_009.jpg',\n",
       " 'applauding_010.jpg']"
      ]
     },
     "execution_count": 5,
     "metadata": {},
     "output_type": "execute_result"
    }
   ],
   "source": [
    "JPG_Order[:10]"
   ]
  },
  {
   "cell_type": "code",
   "execution_count": 3,
   "id": "hollywood-murder",
   "metadata": {},
   "outputs": [
    {
     "name": "stdout",
     "output_type": "stream",
     "text": [
      "Model: \"sequential_1\"\n",
      "_________________________________________________________________\n",
      "Layer (type)                 Output Shape              Param #   \n",
      "=================================================================\n",
      "conv2d (Conv2D)              (None, 94, 94, 32)        896       \n",
      "_________________________________________________________________\n",
      "max_pooling2d (MaxPooling2D) (None, 47, 47, 32)        0         \n",
      "_________________________________________________________________\n",
      "dropout (Dropout)            (None, 47, 47, 32)        0         \n",
      "_________________________________________________________________\n",
      "conv2d_1 (Conv2D)            (None, 45, 45, 64)        18496     \n",
      "_________________________________________________________________\n",
      "dropout_1 (Dropout)          (None, 45, 45, 64)        0         \n",
      "_________________________________________________________________\n",
      "conv2d_2 (Conv2D)            (None, 43, 43, 64)        36928     \n",
      "_________________________________________________________________\n",
      "dropout_2 (Dropout)          (None, 43, 43, 64)        0         \n",
      "_________________________________________________________________\n",
      "max_pooling2d_1 (MaxPooling2 (None, 21, 21, 64)        0         \n",
      "_________________________________________________________________\n",
      "flatten (Flatten)            (None, 28224)             0         \n",
      "_________________________________________________________________\n",
      "dense (Dense)                (None, 512)               14451200  \n",
      "_________________________________________________________________\n",
      "dense_1 (Dense)              (None, 256)               131328    \n",
      "_________________________________________________________________\n",
      "dense_2 (Dense)              (None, 128)               32896     \n",
      "_________________________________________________________________\n",
      "dense_3 (Dense)              (None, 80)                10320     \n",
      "=================================================================\n",
      "Total params: 14,682,064\n",
      "Trainable params: 14,682,064\n",
      "Non-trainable params: 0\n",
      "_________________________________________________________________\n"
     ]
    },
    {
     "data": {
      "text/plain": [
       "<tensorflow.python.keras.engine.sequential.Sequential at 0x2509f688dc8>"
      ]
     },
     "execution_count": 3,
     "metadata": {},
     "output_type": "execute_result"
    }
   ],
   "source": [
    "def define_model(nrOfClasses):\n",
    "    model = Sequential()\n",
    "    model.add(Conv2D(32, (3, 3), activation='relu', kernel_initializer='he_uniform', input_shape=(96, 96, 3)))\n",
    "    model.add(MaxPooling2D((2, 2)))\n",
    "    model.add(Dropout(0.20))\n",
    "    model.add(Conv2D(64, (3, 3), activation='relu', kernel_initializer='he_uniform'))\n",
    "    model.add(Dropout(0.20))\n",
    "    model.add(Conv2D(64, (3, 3), activation='relu', kernel_initializer='he_uniform'))\n",
    "    model.add(Dropout(0.20))\n",
    "    model.add(MaxPooling2D((2, 2)))\n",
    "    model.add(Flatten())\n",
    "    model.add(Dense(512, activation='relu', kernel_initializer='he_uniform'))\n",
    "    model.add(Dense(256, activation='relu', kernel_initializer='he_uniform'))\n",
    "    model.add(Dense(128, activation='relu', kernel_initializer='he_uniform'))\n",
    "    model.add(Dense(nrOfClasses, activation='softmax'))\n",
    "    # compile model¨\n",
    "    #opt = keras.optimizers.Adam(learning_rate=0.001)\n",
    "    opt = keras.optimizers.SGD(lr=0.001, momentum=0.9)\n",
    "    model.compile(optimizer=opt, loss='categorical_crossentropy', metrics=['accuracy'])\n",
    "    model.summary()\n",
    "    return model\n",
    "\n",
    "define_model(80)"
   ]
  },
  {
   "cell_type": "code",
   "execution_count": 8,
   "id": "simple-brass",
   "metadata": {},
   "outputs": [
    {
     "data": {
      "text/plain": [
       "array([[[125.,  50.],\n",
       "        [101., 123.],\n",
       "        [ 37., 135.],\n",
       "        [ 23., 240.],\n",
       "        [ 89., 165.],\n",
       "        [164., 108.],\n",
       "        [210., 209.],\n",
       "        [153., 145.],\n",
       "        [ 76., 281.],\n",
       "        [ 67., 323.],\n",
       "        [ nan,  nan],\n",
       "        [161., 283.],\n",
       "        [ nan,  nan],\n",
       "        [ nan,  nan],\n",
       "        [107.,  42.],\n",
       "        [126.,  38.],\n",
       "        [ 71.,  61.],\n",
       "        [ nan,  nan]],\n",
       "\n",
       "       [[109.,  46.],\n",
       "        [106., 126.],\n",
       "        [ 37., 129.],\n",
       "        [ 17., 222.],\n",
       "        [ 70., 191.],\n",
       "        [172., 119.],\n",
       "        [217., 225.],\n",
       "        [181., 208.],\n",
       "        [ nan,  nan],\n",
       "        [ nan,  nan],\n",
       "        [ nan,  nan],\n",
       "        [ nan,  nan],\n",
       "        [ nan,  nan],\n",
       "        [ nan,  nan],\n",
       "        [ 93.,  36.],\n",
       "        [122.,  37.],\n",
       "        [ 70.,  55.],\n",
       "        [137.,  58.]],\n",
       "\n",
       "       [[ 69.,  47.],\n",
       "        [117.,  83.],\n",
       "        [143.,  76.],\n",
       "        [ nan,  nan],\n",
       "        [ nan,  nan],\n",
       "        [ 90.,  91.],\n",
       "        [ 21., 127.],\n",
       "        [ 24.,  77.],\n",
       "        [ nan,  nan],\n",
       "        [ nan,  nan],\n",
       "        [ nan,  nan],\n",
       "        [ nan,  nan],\n",
       "        [ nan,  nan],\n",
       "        [ nan,  nan],\n",
       "        [ nan,  nan],\n",
       "        [ 77.,  38.],\n",
       "        [ nan,  nan],\n",
       "        [112.,  37.]],\n",
       "\n",
       "       [[ 77., 108.],\n",
       "        [ 44., 158.],\n",
       "        [ 26., 161.],\n",
       "        [111., 144.],\n",
       "        [123.,  70.],\n",
       "        [ 65., 155.],\n",
       "        [ nan,  nan],\n",
       "        [ nan,  nan],\n",
       "        [ 44., 323.],\n",
       "        [ nan,  nan],\n",
       "        [ nan,  nan],\n",
       "        [ 77., 321.],\n",
       "        [ nan,  nan],\n",
       "        [ nan,  nan],\n",
       "        [ 64.,  99.],\n",
       "        [ 79.,  97.],\n",
       "        [ 35., 107.],\n",
       "        [ nan,  nan]],\n",
       "\n",
       "       [[ 65.,  49.],\n",
       "        [ 75.,  99.],\n",
       "        [ 29.,  97.],\n",
       "        [ 24., 174.],\n",
       "        [ 51., 110.],\n",
       "        [119.,  98.],\n",
       "        [117., 177.],\n",
       "        [ 82., 105.],\n",
       "        [ 42., 250.],\n",
       "        [ 46., 354.],\n",
       "        [ nan,  nan],\n",
       "        [ 94., 252.],\n",
       "        [ 91., 353.],\n",
       "        [ nan,  nan],\n",
       "        [ 56.,  41.],\n",
       "        [ 76.,  38.],\n",
       "        [ 47.,  48.],\n",
       "        [ 94.,  46.]],\n",
       "\n",
       "       [[148.,  86.],\n",
       "        [152., 191.],\n",
       "        [ 61., 189.],\n",
       "        [ nan,  nan],\n",
       "        [ nan,  nan],\n",
       "        [229., 193.],\n",
       "        [ nan,  nan],\n",
       "        [ nan,  nan],\n",
       "        [ nan,  nan],\n",
       "        [ nan,  nan],\n",
       "        [ nan,  nan],\n",
       "        [ nan,  nan],\n",
       "        [ nan,  nan],\n",
       "        [ nan,  nan],\n",
       "        [128.,  76.],\n",
       "        [165.,  73.],\n",
       "        [110.,  84.],\n",
       "        [191.,  86.]],\n",
       "\n",
       "       [[ 85., 101.],\n",
       "        [114., 173.],\n",
       "        [ 34., 175.],\n",
       "        [ nan,  nan],\n",
       "        [ nan,  nan],\n",
       "        [189., 173.],\n",
       "        [ nan,  nan],\n",
       "        [ nan,  nan],\n",
       "        [ nan,  nan],\n",
       "        [ nan,  nan],\n",
       "        [ nan,  nan],\n",
       "        [ nan,  nan],\n",
       "        [ nan,  nan],\n",
       "        [ nan,  nan],\n",
       "        [ 67.,  84.],\n",
       "        [102.,  79.],\n",
       "        [ 48.,  90.],\n",
       "        [132.,  79.]],\n",
       "\n",
       "       [[ 86.,  40.],\n",
       "        [117.,  84.],\n",
       "        [100.,  83.],\n",
       "        [ 87., 135.],\n",
       "        [ 69., 104.],\n",
       "        [134.,  84.],\n",
       "        [106., 161.],\n",
       "        [ 49., 124.],\n",
       "        [ 98., 227.],\n",
       "        [ nan,  nan],\n",
       "        [ nan,  nan],\n",
       "        [122., 232.],\n",
       "        [ nan,  nan],\n",
       "        [ nan,  nan],\n",
       "        [ 82.,  33.],\n",
       "        [ 96.,  29.],\n",
       "        [ nan,  nan],\n",
       "        [123.,  30.]],\n",
       "\n",
       "       [[119.,  36.],\n",
       "        [166., 114.],\n",
       "        [111., 115.],\n",
       "        [ nan,  nan],\n",
       "        [ nan,  nan],\n",
       "        [219., 114.],\n",
       "        [ nan,  nan],\n",
       "        [ nan,  nan],\n",
       "        [ nan,  nan],\n",
       "        [ nan,  nan],\n",
       "        [ nan,  nan],\n",
       "        [ nan,  nan],\n",
       "        [ nan,  nan],\n",
       "        [ nan,  nan],\n",
       "        [114.,  25.],\n",
       "        [132.,  23.],\n",
       "        [ nan,  nan],\n",
       "        [171.,  19.]],\n",
       "\n",
       "       [[ 53.,  27.],\n",
       "        [ 53.,  83.],\n",
       "        [ 11.,  87.],\n",
       "        [ 14., 149.],\n",
       "        [ nan,  nan],\n",
       "        [102.,  81.],\n",
       "        [ 98., 132.],\n",
       "        [ 79.,  79.],\n",
       "        [ nan,  nan],\n",
       "        [ nan,  nan],\n",
       "        [ nan,  nan],\n",
       "        [ nan,  nan],\n",
       "        [ nan,  nan],\n",
       "        [ nan,  nan],\n",
       "        [ 42.,  22.],\n",
       "        [ 58.,  20.],\n",
       "        [ 29.,  32.],\n",
       "        [ 75.,  32.]]])"
      ]
     },
     "execution_count": 8,
     "metadata": {},
     "output_type": "execute_result"
    }
   ],
   "source": [
    "partCoords[:10]"
   ]
  },
  {
   "cell_type": "code",
   "execution_count": 11,
   "id": "balanced-emission",
   "metadata": {},
   "outputs": [
    {
     "data": {
      "text/plain": [
       "<matplotlib.collections.PathCollection at 0x1a97b007288>"
      ]
     },
     "execution_count": 11,
     "metadata": {},
     "output_type": "execute_result"
    },
    {
     "data": {
      "image/png": "[encoded data removed]",
      "text/plain": [
       "<Figure size 432x288 with 1 Axes>"
      ]
     },
     "metadata": {
      "needs_background": "light"
     },
     "output_type": "display_data"
    }
   ],
   "source": [
    "firstCoords = partCoords[0]\n",
    "plt.scatter(firstCoords[:,0], firstCoords[:,1], s=20)"
   ]
  },
  {
   "cell_type": "code",
   "execution_count": null,
   "id": "intermediate-profile",
   "metadata": {},
   "outputs": [],
   "source": [
    "cv2.readimage"
   ]
  }
 ],
 "metadata": {
  "kernelspec": {
   "display_name": "gputest",
   "language": "python",
   "name": "gputest"
  },
  "language_info": {
   "codemirror_mode": {
    "name": "ipython",
    "version": 3
   },
   "file_extension": ".py",
   "mimetype": "text/x-python",
   "name": "python",
   "nbconvert_exporter": "python",
   "pygments_lexer": "ipython3",
   "version": "3.7.10"
  }
 },
 "nbformat": 4,
 "nbformat_minor": 5
}
