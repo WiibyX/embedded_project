{
 "cells": [
  {
   "cell_type": "code",
   "execution_count": 18,
   "id": "subjective-nicholas",
   "metadata": {},
   "outputs": [],
   "source": [
    "import numpy as np\n",
    "import os\n",
    "import xml.etree.ElementTree as ET\n",
    "import tensorflow as tf\n",
    "import keras\n",
    "from keras.models import Sequential\n",
    "from keras.layers import Dense\n",
    "from keras.layers import Flatten\n",
    "from sklearn.model_selection import train_test_split"
   ]
  },
  {
   "cell_type": "code",
   "execution_count": 2,
   "id": "fantastic-burner",
   "metadata": {},
   "outputs": [],
   "source": [
    "projectDir = r'C:\\Users\\Viktor\\Skola\\embedded\\embedded_project'\n",
    "\n",
    "homeDir = os.path.join(projectDir,'keras_Realtime_Multi-Person_Pose_Estimation-master')\n",
    "xmlDir = os.path.join(projectDir, 'Stanford40_XMLAnnotations\\XMLAnnotations')\n",
    "\n",
    "#homeDir = r'C:\\Users\\Viktor\\Skola\\embedded\\embedded_project\\keras_Realtime_Multi-Person_Pose_Estimation-master'\n",
    "#xmlDir = r'C:\\Users\\Viktor\\Skola\\embedded\\embedded_project\\Stanford40_XMLAnnotations\\XMLAnnotations'"
   ]
  },
  {
   "cell_type": "code",
   "execution_count": 3,
   "id": "figured-sample",
   "metadata": {},
   "outputs": [
    {
     "name": "stdout",
     "output_type": "stream",
     "text": [
      "(9532, 18, 2)\n"
     ]
    }
   ],
   "source": [
    "x = np.load(os.path.join(homeDir,'partCoords.npy'))\n",
    "print(x.shape)"
   ]
  },
  {
   "cell_type": "code",
   "execution_count": 4,
   "id": "accurate-questionnaire",
   "metadata": {},
   "outputs": [
    {
     "name": "stderr",
     "output_type": "stream",
     "text": [
      "<ipython-input-4-733908754da7>:11: RuntimeWarning: All-NaN slice encountered\n",
      "  xmax, ymax = np.nanmax(x[i], axis=0)\n",
      "<ipython-input-4-733908754da7>:12: RuntimeWarning: All-NaN slice encountered\n",
      "  xmin, ymin = np.nanmin(x[i], axis=0)\n"
     ]
    }
   ],
   "source": [
    "#np.set_printoptions(suppress=True)\n",
    "\n",
    "#x10 = x[:10]\n",
    "\n",
    "#print(x10)\n",
    "\n",
    "#x10_norm = np.zeros(x10.shape)\n",
    "\n",
    "for i in range(len(x)):\n",
    "    #print(x10[i])\n",
    "    xmax, ymax = np.nanmax(x[i], axis=0)\n",
    "    xmin, ymin = np.nanmin(x[i], axis=0)\n",
    "    \n",
    "    #if np.isnan(xmax):\n",
    "    #    print(x[i])\n",
    "    #print(i)\n",
    "    #print(xmin)\n",
    "    #print(xmax)\n",
    "    #print(ymin)\n",
    "    #print(ymax)\n",
    "    \n",
    "    x[i][:,0] -= xmin\n",
    "    x[i][:,0] /= (xmax - xmin)\n",
    "    \n",
    "    x[i][:,1] -= ymin\n",
    "    x[i][:,1] /= (ymax - ymin)\n",
    "    \n",
    "    #print(x[i])\n",
    "#print(x10_norm)\n",
    "#print(x[1297])"
   ]
  },
  {
   "cell_type": "code",
   "execution_count": 5,
   "id": "worse-bride",
   "metadata": {},
   "outputs": [],
   "source": [
    "x[np.isnan(x)] = 0"
   ]
  },
  {
   "cell_type": "code",
   "execution_count": 6,
   "id": "respiratory-macro",
   "metadata": {},
   "outputs": [
    {
     "name": "stdout",
     "output_type": "stream",
     "text": [
      "[[[0.54545455 0.04210526]\n",
      "  [0.4171123  0.29824561]\n",
      "  [0.07486631 0.34035088]\n",
      "  ...\n",
      "  [0.55080214 0.        ]\n",
      "  [0.25668449 0.08070175]\n",
      "  [0.         0.        ]]\n",
      "\n",
      " [[0.46       0.05291005]\n",
      "  [0.445      0.47619048]\n",
      "  [0.1        0.49206349]\n",
      "  ...\n",
      "  [0.525      0.00529101]\n",
      "  [0.265      0.1005291 ]\n",
      "  [0.6        0.11640212]]\n",
      "\n",
      " [[0.39344262 0.11111111]\n",
      "  [0.78688525 0.51111111]\n",
      "  [1.         0.43333333]\n",
      "  ...\n",
      "  [0.45901639 0.01111111]\n",
      "  [0.         0.        ]\n",
      "  [0.74590164 0.        ]]\n",
      "\n",
      " ...\n",
      "\n",
      " [[0.78723404 0.29166667]\n",
      "  [0.56382979 0.48611111]\n",
      "  [0.24468085 0.40277778]\n",
      "  ...\n",
      "  [0.84574468 0.22916667]\n",
      "  [0.57978723 0.        ]\n",
      "  [0.         0.        ]]\n",
      "\n",
      " [[0.53784861 0.18315018]\n",
      "  [0.60756972 0.27838828]\n",
      "  [0.35258964 0.23076923]\n",
      "  ...\n",
      "  [0.62749004 0.10989011]\n",
      "  [0.46414343 0.        ]\n",
      "  [0.80278884 0.        ]]\n",
      "\n",
      " [[0.24418605 0.2755102 ]\n",
      "  [0.70930233 0.34693878]\n",
      "  [0.38372093 0.32653061]\n",
      "  ...\n",
      "  [0.34883721 0.15306122]\n",
      "  [0.         0.        ]\n",
      "  [0.80232558 0.        ]]]\n"
     ]
    }
   ],
   "source": [
    "print(x)"
   ]
  },
  {
   "cell_type": "code",
   "execution_count": 7,
   "id": "detailed-accordance",
   "metadata": {},
   "outputs": [
    {
     "name": "stdout",
     "output_type": "stream",
     "text": [
      "(18, 2)\n"
     ]
    }
   ],
   "source": [
    "print(x[0].shape)"
   ]
  },
  {
   "cell_type": "code",
   "execution_count": 8,
   "id": "funky-groove",
   "metadata": {},
   "outputs": [
    {
     "name": "stdout",
     "output_type": "stream",
     "text": [
      "9531/9532\r"
     ]
    }
   ],
   "source": [
    "os.chdir(homeDir)\n",
    "\n",
    "jpgOrder = open('JPG_Order.txt', 'r')\n",
    "lines = jpgOrder.readlines()\n",
    "\n",
    "y_string = []\n",
    "\n",
    "os.chdir(xmlDir)\n",
    "\n",
    "for i in range(len(lines)):\n",
    "    imgFileName = lines[i].strip()\n",
    "    fileName = imgFileName.split(\".\")[0]\n",
    "    xmlFileName = fileName + \".xml\"\n",
    "    \n",
    "    root = ET.parse(xmlFileName).getroot()\n",
    "    action = root.find('object/action').text\n",
    "    \n",
    "    y_string.append(action)\n",
    "    \n",
    "    print(str(i) + '/' + str(len(lines)),end='\\r')\n",
    "\n",
    "#print(y_string)"
   ]
  },
  {
   "cell_type": "code",
   "execution_count": 9,
   "id": "fifth-punishment",
   "metadata": {},
   "outputs": [
    {
     "name": "stdout",
     "output_type": "stream",
     "text": [
      "[ 0  0  0 ... 39 39 39]\n",
      "[[1. 0. 0. ... 0. 0. 0.]\n",
      " [1. 0. 0. ... 0. 0. 0.]\n",
      " [1. 0. 0. ... 0. 0. 0.]\n",
      " ...\n",
      " [0. 0. 0. ... 0. 0. 1.]\n",
      " [0. 0. 0. ... 0. 0. 1.]\n",
      " [0. 0. 0. ... 0. 0. 1.]]\n"
     ]
    }
   ],
   "source": [
    "(allUniqueClasses,y_int) = np.unique(y_string, return_inverse=True)\n",
    "\n",
    "print(y_int)\n",
    "\n",
    "y_cat = tf.keras.utils.to_categorical(y_int, len(allUniqueClasses))\n",
    "\n",
    "print(y_cat)"
   ]
  },
  {
   "cell_type": "code",
   "execution_count": 19,
   "id": "dynamic-structure",
   "metadata": {},
   "outputs": [],
   "source": [
    "x_train, x_test, y_train, y_test = train_test_split(x, y_cat, test_size=0.2, random_state=42)"
   ]
  },
  {
   "cell_type": "code",
   "execution_count": 10,
   "id": "spare-handle",
   "metadata": {},
   "outputs": [],
   "source": [
    "def defineModel(nrOfClasses):\n",
    "    model = Sequential()\n",
    "    model.add(keras.Input(shape=(18,2)))\n",
    "    model.add(Flatten())\n",
    "    model.add(Dense(256, activation='relu', kernel_initializer='he_uniform'))\n",
    "    model.add(Dense(256, activation='relu', kernel_initializer='he_uniform'))\n",
    "    \n",
    "    model.add(Dense(nrOfClasses, activation='softmax'))\n",
    "    \n",
    "    opt = keras.optimizers.Adam(learning_rate=0.001)\n",
    "    model.compile(optimizer=opt, loss='categorical_crossentropy', metrics=['accuracy'])\n",
    "    model.summary()\n",
    "    return model"
   ]
  },
  {
   "cell_type": "code",
   "execution_count": 11,
   "id": "amateur-armor",
   "metadata": {},
   "outputs": [
    {
     "name": "stdout",
     "output_type": "stream",
     "text": [
      "Model: \"sequential\"\n",
      "_________________________________________________________________\n",
      "Layer (type)                 Output Shape              Param #   \n",
      "=================================================================\n",
      "flatten (Flatten)            (None, 36)                0         \n",
      "_________________________________________________________________\n",
      "dense (Dense)                (None, 256)               9472      \n",
      "_________________________________________________________________\n",
      "dense_1 (Dense)              (None, 256)               65792     \n",
      "_________________________________________________________________\n",
      "dense_2 (Dense)              (None, 40)                10280     \n",
      "=================================================================\n",
      "Total params: 85,544\n",
      "Trainable params: 85,544\n",
      "Non-trainable params: 0\n",
      "_________________________________________________________________\n"
     ]
    }
   ],
   "source": [
    "model = defineModel(40)"
   ]
  },
  {
   "cell_type": "code",
   "execution_count": 12,
   "id": "magnetic-cameroon",
   "metadata": {},
   "outputs": [],
   "source": [
    "#x = x[np.newaxis,...]"
   ]
  },
  {
   "cell_type": "code",
   "execution_count": 13,
   "id": "southwest-profile",
   "metadata": {},
   "outputs": [],
   "source": [
    "#y_cat = y_cat[np.newaxis,...]"
   ]
  },
  {
   "cell_type": "code",
   "execution_count": 20,
   "id": "immune-finnish",
   "metadata": {},
   "outputs": [
    {
     "name": "stdout",
     "output_type": "stream",
     "text": [
      "Epoch 1/20\n",
      "239/239 [==============================] - 0s 1ms/step - loss: 1.2695 - accuracy: 0.6110\n",
      "Epoch 2/20\n",
      "239/239 [==============================] - 0s 945us/step - loss: 1.2322 - accuracy: 0.6211\n",
      "Epoch 3/20\n",
      "239/239 [==============================] - 0s 1ms/step - loss: 1.1982 - accuracy: 0.6366\n",
      "Epoch 4/20\n",
      "239/239 [==============================] - 0s 1ms/step - loss: 1.1688 - accuracy: 0.6472\n",
      "Epoch 5/20\n",
      "239/239 [==============================] - 0s 1ms/step - loss: 1.1375 - accuracy: 0.6548\n",
      "Epoch 6/20\n",
      "239/239 [==============================] - 0s 1ms/step - loss: 1.1057 - accuracy: 0.6657\n",
      "Epoch 7/20\n",
      "239/239 [==============================] - 0s 960us/step - loss: 1.0838 - accuracy: 0.6682\n",
      "Epoch 8/20\n",
      "239/239 [==============================] - 0s 955us/step - loss: 1.0556 - accuracy: 0.6843\n",
      "Epoch 9/20\n",
      "239/239 [==============================] - 0s 984us/step - loss: 1.0356 - accuracy: 0.6830\n",
      "Epoch 10/20\n",
      "239/239 [==============================] - 0s 960us/step - loss: 1.0118 - accuracy: 0.6950\n",
      "Epoch 11/20\n",
      "239/239 [==============================] - 0s 956us/step - loss: 0.9871 - accuracy: 0.7032\n",
      "Epoch 12/20\n",
      "239/239 [==============================] - 0s 951us/step - loss: 0.9551 - accuracy: 0.7134\n",
      "Epoch 13/20\n",
      "239/239 [==============================] - 0s 1ms/step - loss: 0.9366 - accuracy: 0.7226\n",
      "Epoch 14/20\n",
      "239/239 [==============================] - 0s 1ms/step - loss: 0.9178 - accuracy: 0.7199\n",
      "Epoch 15/20\n",
      "239/239 [==============================] - 0s 1ms/step - loss: 0.8970 - accuracy: 0.7294\n",
      "Epoch 16/20\n",
      "239/239 [==============================] - 0s 1ms/step - loss: 0.8723 - accuracy: 0.7384\n",
      "Epoch 17/20\n",
      "239/239 [==============================] - 0s 972us/step - loss: 0.8548 - accuracy: 0.7412\n",
      "Epoch 18/20\n",
      "239/239 [==============================] - 0s 1ms/step - loss: 0.8372 - accuracy: 0.7512: 0s - loss: 0.8311 - accuracy: 0.75\n",
      "Epoch 19/20\n",
      "239/239 [==============================] - 0s 1ms/step - loss: 0.8177 - accuracy: 0.7534\n",
      "Epoch 20/20\n",
      "239/239 [==============================] - 0s 1ms/step - loss: 0.7930 - accuracy: 0.7713\n"
     ]
    },
    {
     "data": {
      "text/plain": [
       "<tensorflow.python.keras.callbacks.History at 0x16bf3b17cd0>"
      ]
     },
     "execution_count": 20,
     "metadata": {},
     "output_type": "execute_result"
    }
   ],
   "source": [
    "model.fit(x_train,y_train,epochs=20,verbose=1)"
   ]
  },
  {
   "cell_type": "code",
   "execution_count": 21,
   "id": "turned-belle",
   "metadata": {},
   "outputs": [
    {
     "name": "stdout",
     "output_type": "stream",
     "text": [
      "60/60 [==============================] - 0s 781us/step - loss: 1.8813 - accuracy: 0.4646\n"
     ]
    },
    {
     "data": {
      "text/plain": [
       "[1.8812940120697021, 0.46460407972335815]"
      ]
     },
     "execution_count": 21,
     "metadata": {},
     "output_type": "execute_result"
    }
   ],
   "source": [
    "model.evaluate(x_test,y_test)"
   ]
  }
 ],
 "metadata": {
  "kernelspec": {
   "display_name": "Python 3",
   "language": "python",
   "name": "python3"
  },
  "language_info": {
   "codemirror_mode": {
    "name": "ipython",
    "version": 3
   },
   "file_extension": ".py",
   "mimetype": "text/x-python",
   "name": "python",
   "nbconvert_exporter": "python",
   "pygments_lexer": "ipython3",
   "version": "3.8.8"
  }
 },
 "nbformat": 4,
 "nbformat_minor": 5
}
