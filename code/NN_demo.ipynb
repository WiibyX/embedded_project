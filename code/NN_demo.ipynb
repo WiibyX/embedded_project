{
 "cells": [
  {
   "cell_type": "code",
   "execution_count": null,
   "id": "demanding-gothic",
   "metadata": {},
   "outputs": [],
   "source": [
    "from partCoordsOfImage import partCoordsOfImage\n",
    "\n",
    "import cv2\n",
    "import pylab as plt\n",
    "import matplotlib\n",
    "import numpy as np\n",
    "import tensorflow as tf"
   ]
  },
  {
   "cell_type": "code",
   "execution_count": null,
   "id": "auburn-shannon",
   "metadata": {},
   "outputs": [],
   "source": [
    "imgDir = 'sample_images/wave.jpg'\n",
    "img = cv2.imread(imgDir)\n",
    "plt.imshow(img[:,:,[2,1,0]])\n",
    "fig = matplotlib.pyplot.gcf()\n",
    "fig.set_size_inches(12, 12)"
   ]
  },
  {
   "cell_type": "code",
   "execution_count": null,
   "id": "satisfied-lesson",
   "metadata": {},
   "outputs": [],
   "source": [
    "partCoords = partCoordsOfImage(imgDir)"
   ]
  },
  {
   "cell_type": "code",
   "execution_count": null,
   "id": "major-detection",
   "metadata": {},
   "outputs": [],
   "source": [
    "partCoords"
   ]
  },
  {
   "cell_type": "code",
   "execution_count": null,
   "id": "understanding-manufacturer",
   "metadata": {},
   "outputs": [],
   "source": [
    "# visualize\n",
    "colors = [[255, 0, 0], [255, 85, 0], [255, 170, 0], [255, 255, 0], [170, 255, 0], [85, 255, 0], [0, 255, 0], \\\n",
    "          [0, 255, 85], [0, 255, 170], [0, 255, 255], [0, 170, 255], [0, 85, 255], [0, 0, 255], [85, 0, 255], \\\n",
    "          [170, 0, 255], [255, 0, 255], [255, 0, 170], [255, 0, 85]]\n",
    "\n",
    "limbSeq = [[1,2], [1,5], [2,3], [3,4], [5,6], [6,7], [1,8], [8,9], \\\n",
    "           [9,10], [1,11], [11,12], [12,13], [1,0], [0,14], [14,16], \\\n",
    "           [0,15], [15,17]]\n",
    "\n",
    "#canvas = cv2.imread(imgDir)\n",
    "print(img.shape)\n",
    "canvas = np.full(img.shape,255,np.uint8)\n",
    "\n",
    "#cv2.circle(canvas, (500,500), 40, colors[i], thickness=-1)\n",
    "\n",
    "#cv2.line(canvas,(100,100),(200,200),[0,0,0],1)\n",
    "\n",
    "for seq in limbSeq:\n",
    "    if (not np.isnan(partCoords[seq[0]][0])) and (not np.isnan(partCoords[seq[1]][0])):\n",
    "        cv2.line(canvas,\n",
    "                 (int(partCoords[seq[0]][0]),int(partCoords[seq[0]][1])),\n",
    "                 (int(partCoords[seq[1]][0]),int(partCoords[seq[1]][1])),\n",
    "                 [0,0,0],\n",
    "                 1)\n",
    "\n",
    "for i in range(len(partCoords)):\n",
    "    if (not np.isnan(partCoords[i][0])) and (not np.isnan(partCoords[i][1])):\n",
    "        cv2.circle(canvas, (int(partCoords[i][0]),int(partCoords[i][1])), int(img.shape[0]/100), colors[i], thickness=-1)\n",
    "\n",
    "plt.imshow(canvas)\n",
    "        \n",
    "#to_plot = cv2.addWeighted(img, 0.3, canvas, 0.7, 0)\n",
    "#plt.imshow(to_plot[:,:,[2,1,0]])\n",
    "\n",
    "#make bigger\n",
    "fig = matplotlib.pyplot.gcf()\n",
    "fig.set_size_inches(12, 12)"
   ]
  },
  {
   "cell_type": "code",
   "execution_count": null,
   "id": "derived-start",
   "metadata": {},
   "outputs": [],
   "source": [
    "#normalize\n",
    "partCoords[np.isnan(partCoords)] = 0\n",
    "\n",
    "xmax, ymax = np.nanmax(partCoords, axis=0)\n",
    "xmin, ymin = np.nanmin(partCoords, axis=0)\n",
    "    \n",
    "partCoords[:,0] -= xmin\n",
    "partCoords[:,0] /= (xmax - xmin)\n",
    "    \n",
    "partCoords[:,1] -= ymin\n",
    "partCoords[:,1] /= (ymax - ymin)\n",
    "\n",
    "\n",
    "#load tensorflow lite model\n",
    "interpreter = tf.lite.Interpreter(model_path='./saved_tflite_models/model_2.tflite')\n",
    "interpreter.allocate_tensors()\n",
    "\n",
    "# Get input and output tensors.\n",
    "input_details = interpreter.get_input_details()\n",
    "output_details = interpreter.get_output_details()\n",
    "\n",
    "interpreter.set_tensor(input_details[0]['index'], partCoords[np.newaxis,...].astype('float32'))\n",
    "interpreter.invoke()\n",
    "output_data = interpreter.get_tensor(output_details[0]['index'])\n",
    "\n",
    "predictionIndex = np.argmax(output_data[0])\n",
    "\n",
    "classOrder = np.load('classOrder.npy')\n",
    "\n",
    "prediction = classOrder[predictionIndex]\n",
    "\n",
    "print('Predicted class:',prediction)"
   ]
  },
  {
   "cell_type": "code",
   "execution_count": null,
   "id": "pressed-finish",
   "metadata": {},
   "outputs": [],
   "source": []
  }
 ],
 "metadata": {
  "kernelspec": {
   "display_name": "Python 3",
   "language": "python",
   "name": "python3"
  },
  "language_info": {
   "codemirror_mode": {
    "name": "ipython",
    "version": 3
   },
   "file_extension": ".py",
   "mimetype": "text/x-python",
   "name": "python",
   "nbconvert_exporter": "python",
   "pygments_lexer": "ipython3",
   "version": "3.7.10"
  }
 },
 "nbformat": 4,
 "nbformat_minor": 5
}
