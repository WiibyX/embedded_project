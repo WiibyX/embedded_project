{
 "cells": [
  {
   "cell_type": "code",
   "execution_count": null,
   "id": "incredible-century",
   "metadata": {},
   "outputs": [],
   "source": [
    "import os, cv2\n",
    "import numpy as np\n",
    "import tensorflow as tf\n",
    "from tensorflow import keras\n",
    "import matplotlib.pyplot as plt\n",
    "\n",
    "%matplotlib inline"
   ]
  },
  {
   "cell_type": "code",
   "execution_count": null,
   "id": "exterior-particle",
   "metadata": {},
   "outputs": [],
   "source": [
    "#Original image\n",
    "original_imageDir = r'C:\\Users\\WillyB\\Documents\\GitHub\\embedded_project\\code\\sample_images/wave.jpg'\n",
    "imgOrig = cv2.imread(original_imageDir)\n",
    "resizedImg = cv2.resize(imgOrig,(90,90))\n",
    "plt.imshow(imgOrig[:,:,[2,1,0]])\n",
    "fig = plt.gcf()\n",
    "fig.set_size_inches(12,12)"
   ]
  },
  {
   "cell_type": "code",
   "execution_count": null,
   "id": "worse-penguin",
   "metadata": {},
   "outputs": [],
   "source": [
    "modelDir = r'C:\\Users\\WillyB\\Documents\\GitHub\\embedded_project\\code\\saved_model\\my_model'\n",
    "model = keras.models.load_model(modelDir)\n",
    "prediction = model.predict(resizedImg[np.newaxis,...])\n",
    "classOrder = np.load(r'C:\\Users\\WillyB\\Documents\\GitHub\\embedded_project\\code/classOrder.npy')\n",
    "classOrder[np.argmax(prediction)]"
   ]
  },
  {
   "cell_type": "code",
   "execution_count": null,
   "id": "tough-sally",
   "metadata": {},
   "outputs": [],
   "source": []
  }
 ],
 "metadata": {
  "kernelspec": {
   "display_name": "Python 3",
   "language": "python",
   "name": "python3"
  },
  "language_info": {
   "codemirror_mode": {
    "name": "ipython",
    "version": 3
   },
   "file_extension": ".py",
   "mimetype": "text/x-python",
   "name": "python",
   "nbconvert_exporter": "python",
   "pygments_lexer": "ipython3",
   "version": "3.7.10"
  }
 },
 "nbformat": 4,
 "nbformat_minor": 5
}
